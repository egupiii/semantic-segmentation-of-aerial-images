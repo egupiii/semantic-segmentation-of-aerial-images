{
 "cells": [
  {
   "cell_type": "code",
   "execution_count": 1,
   "metadata": {
    "colab": {
     "base_uri": "https://localhost:8080/",
     "height": 122
    },
    "colab_type": "code",
    "executionInfo": {
     "elapsed": 23956,
     "status": "ok",
     "timestamp": 1556245582300,
     "user": {
      "displayName": "江種壱騎",
      "photoUrl": "",
      "userId": "17573779496645153120"
     },
     "user_tz": -540
    },
    "id": "AQzRih-LcBfN",
    "outputId": "e6ae796b-301a-4a42-eaab-5e8ee2613473"
   },
   "outputs": [
    {
     "name": "stdout",
     "output_type": "stream",
     "text": [
      "Go to this URL in a browser: https://accounts.google.com/o/oauth2/auth?client_id=947318989803-6bn6qk8qdgf4n4g3pfee6491hc0brc4i.apps.googleusercontent.com&redirect_uri=urn%3Aietf%3Awg%3Aoauth%3A2.0%3Aoob&scope=email%20https%3A%2F%2Fwww.googleapis.com%2Fauth%2Fdocs.test%20https%3A%2F%2Fwww.googleapis.com%2Fauth%2Fdrive%20https%3A%2F%2Fwww.googleapis.com%2Fauth%2Fdrive.photos.readonly%20https%3A%2F%2Fwww.googleapis.com%2Fauth%2Fpeopleapi.readonly&response_type=code\n",
      "\n",
      "Enter your authorization code:\n",
      "··········\n",
      "Mounted at /content/drive\n"
     ]
    }
   ],
   "source": [
    "# Mount\n",
    "\n",
    "from google.colab import drive\n",
    "\n",
    "drive.mount('/content/drive')"
   ]
  },
  {
   "cell_type": "code",
   "execution_count": 2,
   "metadata": {
    "colab": {
     "base_uri": "https://localhost:8080/",
     "height": 34
    },
    "colab_type": "code",
    "executionInfo": {
     "elapsed": 574,
     "status": "ok",
     "timestamp": 1556245587364,
     "user": {
      "displayName": "江種壱騎",
      "photoUrl": "",
      "userId": "17573779496645153120"
     },
     "user_tz": -540
    },
    "id": "YEKjIRVxc-IG",
    "outputId": "4d9ba763-1bb7-4adc-95e7-51c1ecefb734"
   },
   "outputs": [
    {
     "name": "stdout",
     "output_type": "stream",
     "text": [
      "/content/drive/My Drive\n"
     ]
    }
   ],
   "source": [
    "cd \"drive/My Drive\""
   ]
  },
  {
   "cell_type": "markdown",
   "metadata": {
    "colab_type": "text",
    "id": "907bJRZbhEjH"
   },
   "source": [
    "# #1 U-Net for Segmentation\n",
    "\n",
    "<br />\n",
    "\n",
    "\"zhixuhao/unet\"\n",
    "\n",
    "\n",
    "https://github.com/zhixuhao/unet"
   ]
  },
  {
   "cell_type": "code",
   "execution_count": 3,
   "metadata": {
    "colab": {
     "base_uri": "https://localhost:8080/",
     "height": 34
    },
    "colab_type": "code",
    "executionInfo": {
     "elapsed": 3367,
     "status": "ok",
     "timestamp": 1556245602176,
     "user": {
      "displayName": "江種壱騎",
      "photoUrl": "",
      "userId": "17573779496645153120"
     },
     "user_tz": -540
    },
    "id": "xeDS-yezdSrF",
    "outputId": "6eafe008-1bc3-4e57-9c34-fa19e5e1bf65"
   },
   "outputs": [
    {
     "name": "stderr",
     "output_type": "stream",
     "text": [
      "Using TensorFlow backend.\n"
     ]
    }
   ],
   "source": [
    "from new_dataset import *\n",
    "from unet_cloned.data import *\n",
    "from unet_cloned.model import *"
   ]
  },
  {
   "cell_type": "markdown",
   "metadata": {
    "colab_type": "text",
    "id": "btkxqJ5ohUtI"
   },
   "source": [
    "## Train My U-Net with Data Generator"
   ]
  },
  {
   "cell_type": "code",
   "execution_count": 0,
   "metadata": {
    "colab": {
     "base_uri": "https://localhost:8080/",
     "height": 442
    },
    "colab_type": "code",
    "executionInfo": {
     "elapsed": 1985352,
     "status": "ok",
     "timestamp": 1556174323990,
     "user": {
      "displayName": "江種壱騎",
      "photoUrl": "",
      "userId": "17573779496645153120"
     },
     "user_tz": -540
    },
    "id": "nrY59PNJhPuj",
    "outputId": "6a188e66-e2c9-46b5-9204-8f7453b13bd7",
    "scrolled": true
   },
   "outputs": [
    {
     "name": "stderr",
     "output_type": "stream",
     "text": [
      "/content/drive/My Drive/unet_cloned/model.py:55: UserWarning: Update your `Model` call to the Keras 2 API: `Model(inputs=Tensor(\"in..., outputs=Tensor(\"co...)`\n",
      "  model = Model(input = inputs, output = conv10)\n"
     ]
    },
    {
     "name": "stdout",
     "output_type": "stream",
     "text": [
      "Epoch 1/5\n",
      "Found 50 images belonging to 1 classes.\n",
      "Found 50 images belonging to 1 classes.\n",
      "500/500 [==============================] - 396s 791ms/step - loss: 0.0058 - acc: 1.0000\n",
      "\n",
      "Epoch 00001: loss improved from inf to 0.00581, saving model to weight/unet1.hdf5\n",
      "Epoch 2/5\n",
      "500/500 [==============================] - 391s 782ms/step - loss: 1.0000e-07 - acc: 1.0000\n",
      "\n",
      "Epoch 00002: loss improved from 0.00581 to 0.00000, saving model to weight/unet1.hdf5\n",
      "Epoch 3/5\n",
      "500/500 [==============================] - 394s 789ms/step - loss: 1.0000e-07 - acc: 1.0000\n",
      "\n",
      "Epoch 00003: loss did not improve from 0.00000\n",
      "Epoch 4/5\n",
      "500/500 [==============================] - 395s 791ms/step - loss: 1.0000e-07 - acc: 1.0000\n",
      "\n",
      "Epoch 00004: loss did not improve from 0.00000\n",
      "Epoch 5/5\n",
      "500/500 [==============================] - 395s 790ms/step - loss: 1.0000e-07 - acc: 1.0000\n",
      "\n",
      "Epoch 00005: loss did not improve from 0.00000\n"
     ]
    },
    {
     "data": {
      "text/plain": [
       "<keras.callbacks.History at 0x7f80b0e290b8>"
      ]
     },
     "execution_count": 6,
     "metadata": {
      "tags": []
     },
     "output_type": "execute_result"
    }
   ],
   "source": [
    "data_gen_args = dict(rotation_range=0.2,\n",
    "                     width_shift_range=0.05,\n",
    "                     height_shift_range=0.05,\n",
    "                     shear_range=0.05,\n",
    "                     zoom_range=0.05,\n",
    "                     horizontal_flip=True,\n",
    "                     fill_mode='nearest')\n",
    "\n",
    "myGene = trainGenerator(2, 'new_dataset/train/rwanda', 'image',\n",
    "                        'label', data_gen_args, save_to_dir=None)\n",
    "\n",
    "model = unet()\n",
    "\n",
    "model_checkpoint = ModelCheckpoint(\n",
    "    'weight/unet1.hdf5', monitor='loss', verbose=1, save_best_only=True)\n",
    "\n",
    "model.fit_generator(myGene, steps_per_epoch=500,\n",
    "                    epochs=5, callbacks=[model_checkpoint])"
   ]
  },
  {
   "cell_type": "markdown",
   "metadata": {
    "colab_type": "text",
    "id": "Kn4PaYJUPXsT"
   },
   "source": [
    "## Test The Model and Save The Results"
   ]
  },
  {
   "cell_type": "code",
   "execution_count": 15,
   "metadata": {
    "colab": {
     "base_uri": "https://localhost:8080/",
     "height": 1210
    },
    "colab_type": "code",
    "executionInfo": {
     "elapsed": 21782,
     "status": "ok",
     "timestamp": 1556245982291,
     "user": {
      "displayName": "江種壱騎",
      "photoUrl": "",
      "userId": "17573779496645153120"
     },
     "user_tz": -540
    },
    "id": "vORlnSI6hXTb",
    "outputId": "bec69051-45ba-4103-960d-373753fbe48f",
    "scrolled": true
   },
   "outputs": [
    {
     "name": "stderr",
     "output_type": "stream",
     "text": [
      "/content/drive/My Drive/unet_cloned/model.py:55: UserWarning: Update your `Model` call to the Keras 2 API: `Model(inputs=Tensor(\"in..., outputs=Tensor(\"co...)`\n",
      "  model = Model(input = inputs, output = conv10)\n",
      "/usr/local/lib/python3.6/dist-packages/skimage/transform/_warps.py:105: UserWarning: The default mode, 'constant', will be changed to 'reflect' in skimage 0.15.\n",
      "  warn(\"The default mode, 'constant', will be changed to 'reflect' in \"\n",
      "/usr/local/lib/python3.6/dist-packages/skimage/transform/_warps.py:110: UserWarning: Anti-aliasing will be enabled by default in skimage 0.15 to avoid aliasing artifacts when down-sampling images.\n",
      "  warn(\"Anti-aliasing will be enabled by default in skimage 0.15 to \"\n"
     ]
    },
    {
     "name": "stdout",
     "output_type": "stream",
     "text": [
      "30/30 [==============================] - 20s 662ms/step\n"
     ]
    },
    {
     "name": "stderr",
     "output_type": "stream",
     "text": [
      "/usr/local/lib/python3.6/dist-packages/skimage/io/_io.py:140: UserWarning: new_dataset/prediction/unet1/rwanda/0_predict.png is a low contrast image\n",
      "  warn('%s is a low contrast image' % fname)\n",
      "/usr/local/lib/python3.6/dist-packages/skimage/util/dtype.py:141: UserWarning: Possible precision loss when converting from float32 to uint16\n",
      "  .format(dtypeobj_in, dtypeobj_out))\n",
      "/usr/local/lib/python3.6/dist-packages/skimage/io/_io.py:140: UserWarning: new_dataset/prediction/unet1/rwanda/1_predict.png is a low contrast image\n",
      "  warn('%s is a low contrast image' % fname)\n",
      "/usr/local/lib/python3.6/dist-packages/skimage/io/_io.py:140: UserWarning: new_dataset/prediction/unet1/rwanda/2_predict.png is a low contrast image\n",
      "  warn('%s is a low contrast image' % fname)\n",
      "/usr/local/lib/python3.6/dist-packages/skimage/io/_io.py:140: UserWarning: new_dataset/prediction/unet1/rwanda/3_predict.png is a low contrast image\n",
      "  warn('%s is a low contrast image' % fname)\n",
      "/usr/local/lib/python3.6/dist-packages/skimage/io/_io.py:140: UserWarning: new_dataset/prediction/unet1/rwanda/4_predict.png is a low contrast image\n",
      "  warn('%s is a low contrast image' % fname)\n",
      "/usr/local/lib/python3.6/dist-packages/skimage/io/_io.py:140: UserWarning: new_dataset/prediction/unet1/rwanda/5_predict.png is a low contrast image\n",
      "  warn('%s is a low contrast image' % fname)\n",
      "/usr/local/lib/python3.6/dist-packages/skimage/io/_io.py:140: UserWarning: new_dataset/prediction/unet1/rwanda/6_predict.png is a low contrast image\n",
      "  warn('%s is a low contrast image' % fname)\n",
      "/usr/local/lib/python3.6/dist-packages/skimage/io/_io.py:140: UserWarning: new_dataset/prediction/unet1/rwanda/7_predict.png is a low contrast image\n",
      "  warn('%s is a low contrast image' % fname)\n",
      "/usr/local/lib/python3.6/dist-packages/skimage/io/_io.py:140: UserWarning: new_dataset/prediction/unet1/rwanda/8_predict.png is a low contrast image\n",
      "  warn('%s is a low contrast image' % fname)\n",
      "/usr/local/lib/python3.6/dist-packages/skimage/io/_io.py:140: UserWarning: new_dataset/prediction/unet1/rwanda/9_predict.png is a low contrast image\n",
      "  warn('%s is a low contrast image' % fname)\n",
      "/usr/local/lib/python3.6/dist-packages/skimage/io/_io.py:140: UserWarning: new_dataset/prediction/unet1/rwanda/10_predict.png is a low contrast image\n",
      "  warn('%s is a low contrast image' % fname)\n",
      "/usr/local/lib/python3.6/dist-packages/skimage/io/_io.py:140: UserWarning: new_dataset/prediction/unet1/rwanda/11_predict.png is a low contrast image\n",
      "  warn('%s is a low contrast image' % fname)\n",
      "/usr/local/lib/python3.6/dist-packages/skimage/io/_io.py:140: UserWarning: new_dataset/prediction/unet1/rwanda/12_predict.png is a low contrast image\n",
      "  warn('%s is a low contrast image' % fname)\n",
      "/usr/local/lib/python3.6/dist-packages/skimage/io/_io.py:140: UserWarning: new_dataset/prediction/unet1/rwanda/13_predict.png is a low contrast image\n",
      "  warn('%s is a low contrast image' % fname)\n",
      "/usr/local/lib/python3.6/dist-packages/skimage/io/_io.py:140: UserWarning: new_dataset/prediction/unet1/rwanda/14_predict.png is a low contrast image\n",
      "  warn('%s is a low contrast image' % fname)\n",
      "/usr/local/lib/python3.6/dist-packages/skimage/io/_io.py:140: UserWarning: new_dataset/prediction/unet1/rwanda/15_predict.png is a low contrast image\n",
      "  warn('%s is a low contrast image' % fname)\n",
      "/usr/local/lib/python3.6/dist-packages/skimage/io/_io.py:140: UserWarning: new_dataset/prediction/unet1/rwanda/16_predict.png is a low contrast image\n",
      "  warn('%s is a low contrast image' % fname)\n",
      "/usr/local/lib/python3.6/dist-packages/skimage/io/_io.py:140: UserWarning: new_dataset/prediction/unet1/rwanda/17_predict.png is a low contrast image\n",
      "  warn('%s is a low contrast image' % fname)\n",
      "/usr/local/lib/python3.6/dist-packages/skimage/io/_io.py:140: UserWarning: new_dataset/prediction/unet1/rwanda/18_predict.png is a low contrast image\n",
      "  warn('%s is a low contrast image' % fname)\n",
      "/usr/local/lib/python3.6/dist-packages/skimage/io/_io.py:140: UserWarning: new_dataset/prediction/unet1/rwanda/19_predict.png is a low contrast image\n",
      "  warn('%s is a low contrast image' % fname)\n",
      "/usr/local/lib/python3.6/dist-packages/skimage/io/_io.py:140: UserWarning: new_dataset/prediction/unet1/rwanda/20_predict.png is a low contrast image\n",
      "  warn('%s is a low contrast image' % fname)\n",
      "/usr/local/lib/python3.6/dist-packages/skimage/io/_io.py:140: UserWarning: new_dataset/prediction/unet1/rwanda/21_predict.png is a low contrast image\n",
      "  warn('%s is a low contrast image' % fname)\n",
      "/usr/local/lib/python3.6/dist-packages/skimage/io/_io.py:140: UserWarning: new_dataset/prediction/unet1/rwanda/22_predict.png is a low contrast image\n",
      "  warn('%s is a low contrast image' % fname)\n",
      "/usr/local/lib/python3.6/dist-packages/skimage/io/_io.py:140: UserWarning: new_dataset/prediction/unet1/rwanda/23_predict.png is a low contrast image\n",
      "  warn('%s is a low contrast image' % fname)\n",
      "/usr/local/lib/python3.6/dist-packages/skimage/io/_io.py:140: UserWarning: new_dataset/prediction/unet1/rwanda/24_predict.png is a low contrast image\n",
      "  warn('%s is a low contrast image' % fname)\n",
      "/usr/local/lib/python3.6/dist-packages/skimage/io/_io.py:140: UserWarning: new_dataset/prediction/unet1/rwanda/25_predict.png is a low contrast image\n",
      "  warn('%s is a low contrast image' % fname)\n",
      "/usr/local/lib/python3.6/dist-packages/skimage/io/_io.py:140: UserWarning: new_dataset/prediction/unet1/rwanda/26_predict.png is a low contrast image\n",
      "  warn('%s is a low contrast image' % fname)\n",
      "/usr/local/lib/python3.6/dist-packages/skimage/io/_io.py:140: UserWarning: new_dataset/prediction/unet1/rwanda/27_predict.png is a low contrast image\n",
      "  warn('%s is a low contrast image' % fname)\n",
      "/usr/local/lib/python3.6/dist-packages/skimage/io/_io.py:140: UserWarning: new_dataset/prediction/unet1/rwanda/28_predict.png is a low contrast image\n",
      "  warn('%s is a low contrast image' % fname)\n",
      "/usr/local/lib/python3.6/dist-packages/skimage/io/_io.py:140: UserWarning: new_dataset/prediction/unet1/rwanda/29_predict.png is a low contrast image\n",
      "  warn('%s is a low contrast image' % fname)\n"
     ]
    }
   ],
   "source": [
    "testGene = testGenerator(\"new_dataset/test/rwanda\")\n",
    "\n",
    "model = unet()\n",
    "\n",
    "model.load_weights(\"weight/unet1.hdf5\")\n",
    "\n",
    "results = model.predict_generator(testGene, 30, verbose=1)\n",
    "\n",
    "saveResult(\"new_dataset/prediction/unet1/rwanda\", results)"
   ]
  },
  {
   "cell_type": "markdown",
   "metadata": {},
   "source": [
    "## Check The Results"
   ]
  },
  {
   "cell_type": "code",
   "execution_count": 1,
   "metadata": {
    "ExecuteTime": {
     "end_time": "2019-04-26T02:56:57.122708Z",
     "start_time": "2019-04-26T02:56:57.118655Z"
    }
   },
   "outputs": [],
   "source": [
    "from IPython.display import Image, display_png"
   ]
  },
  {
   "cell_type": "code",
   "execution_count": 2,
   "metadata": {
    "ExecuteTime": {
     "end_time": "2019-04-26T02:58:04.764456Z",
     "start_time": "2019-04-26T02:58:04.749176Z"
    }
   },
   "outputs": [
    {
     "data": {
      "image/png": "[encoded data removed]"
     },
     "metadata": {},
     "output_type": "display_data"
    }
   ],
   "source": [
    "display_png(Image(\"new_dataset/prediction/unet1/rwanda/0_predict.png\"))"
   ]
  },
  {
   "cell_type": "code",
   "execution_count": null,
   "metadata": {},
   "outputs": [],
   "source": []
  }
 ],
 "metadata": {
  "accelerator": "GPU",
  "colab": {
   "collapsed_sections": [],
   "name": "sprint32-36_gcolab-unet1.ipynb",
   "provenance": [],
   "toc_visible": true,
   "version": "0.3.2"
  },
  "kernelspec": {
   "display_name": "Python 3",
   "language": "python",
   "name": "python3"
  },
  "language_info": {
   "codemirror_mode": {
    "name": "ipython",
    "version": 3
   },
   "file_extension": ".py",
   "mimetype": "text/x-python",
   "name": "python",
   "nbconvert_exporter": "python",
   "pygments_lexer": "ipython3",
   "version": "3.6.8"
  },
  "toc": {
   "base_numbering": 1,
   "nav_menu": {},
   "number_sections": true,
   "sideBar": true,
   "skip_h1_title": false,
   "title_cell": "Table of Contents",
   "title_sidebar": "Contents",
   "toc_cell": false,
   "toc_position": {},
   "toc_section_display": true,
   "toc_window_display": false
  },
  "varInspector": {
   "cols": {
    "lenName": 16,
    "lenType": 16,
    "lenVar": 40
   },
   "kernels_config": {
    "python": {
     "delete_cmd_postfix": "",
     "delete_cmd_prefix": "del ",
     "library": "var_list.py",
     "varRefreshCmd": "print(var_dic_list())"
    },
    "r": {
     "delete_cmd_postfix": ") ",
     "delete_cmd_prefix": "rm(",
     "library": "var_list.r",
     "varRefreshCmd": "cat(var_dic_list()) "
    }
   },
   "types_to_exclude": [
    "module",
    "function",
    "builtin_function_or_method",
    "instance",
    "_Feature"
   ],
   "window_display": false
  }
 },
 "nbformat": 4,
 "nbformat_minor": 1
}
